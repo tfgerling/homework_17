{
 "cells": [
  {
   "cell_type": "code",
   "execution_count": null,
   "id": "be92e446",
   "metadata": {},
   "outputs": [],
   "source": [
    "df = pd.read_csv(\"arrhythmia.txt\", header=None, names=['Age', 'Sex', 'Height', 'Weight', 'QRS_duration', 'P_R_interval',\n",
    "                                                               'Q_T_interval', 'T_interval', 'P_interval', 'QRS_vect', 'T_vect',\n",
    "                                                               'P_vect', 'QRST_vect', 'J_vect', 'Heart_rate', 'DI_avg_Q',\n",
    "                                                               'DI_avg_R', 'DI_avg_S', 'DI_avg_R_prime', 'DI_avg_S_prime',\n",
    "                                                               'DI_intrinsic_deflect', 'DI_ragged_R', 'DI_diphasic_R',\n",
    "                                                               'DI_ragged_P', 'DI_diphasic_P', 'DI_ragged_T', 'DI_diphasic_T',\n",
    "                                                               'DII_avg_Q', 'DII_avg_R', 'DII_avg_S', 'DII_avg_R_prime', \n",
    "                                                               'DII_avg_S_prime','DII_intrinsic_deflect', 'DII_ragged_R', \n",
    "                                                               'DII_diphasic_R', 'DII_ragged_P', 'DII_diphasic_P', \n",
    "                                                               'DII_ragged_T', 'DII_diphasic_T',\n",
    "                                                               'DIII_avg_Q', 'DIII_avg_R', 'DIII_avg_S', 'DIII_avg_R_prime', \n",
    "                                                               'DIII_avg_S_prime','DIII_intrinsic_deflect', 'DIII_ragged_R', \n",
    "                                                               'DIII_diphasic_R', 'DIII_ragged_P', 'DIII_diphasic_P', \n",
    "                                                               'DIII_ragged_T', 'DIII_diphasic_T',\n",
    "                                                               'AVR_avg_Q', 'AVR_avg_R', 'AVR_avg_S', 'AVR_avg_R_prime', \n",
    "                                                               'AVR_avg_S_prime','AVR_intrinsic_deflect', 'AVR_ragged_R', \n",
    "                                                               'AVR_diphasic_R', 'AVR_ragged_P', 'AVR_diphasic_P', \n",
    "                                                               'AVR_ragged_T', 'AVR_diphasic_T',\n",
    "                                                               'AVL_avg_Q', 'AVL_avg_R', 'AVL_avg_S', 'AVL_avg_R_prime', \n",
    "                                                               'AVL_avg_S_prime','AVL_intrinsic_deflect', 'AVL_ragged_R', \n",
    "                                                               'AVL_diphasic_R', 'AVL_ragged_P', 'AVL_diphasic_P', \n",
    "                                                               'AVL_ragged_T', 'AVL_diphasic_T',\n",
    "                                                               'AVF_avg_Q', 'AVF_avg_R', 'AVF_avg_S', 'AVF_avg_R_prime', \n",
    "                                                               'AVF_avg_S_prime','AVF_intrinsic_deflect', 'AVF_ragged_R', \n",
    "                                                               'AVF_diphasic_R', 'AVF_ragged_P', 'AVF_diphasic_P', \n",
    "                                                               'AVF_ragged_T', 'AVF_diphasic_T',\n",
    "                                                               'V1_avg_Q', 'V1_avg_R', 'V1_avg_S', 'V1_avg_R_prime', \n",
    "                                                               'V1_avg_S_prime','V1_intrinsic_deflect', 'V1_ragged_R', \n",
    "                                                               'V1_diphasic_R', 'V1_ragged_P', 'V1_diphasic_P', \n",
    "                                                               'V1_ragged_T', 'V1_diphasic_T',\n",
    "                                                               'V2_avg_Q', 'V2_avg_R', 'V2_avg_S', 'V2_avg_R_prime', \n",
    "                                                               'V2_avg_S_prime','V2_intrinsic_deflect', 'V2_ragged_R', \n",
    "                                                               'V2_diphasic_R', 'V2_ragged_P', 'V2_diphasic_P', \n",
    "                                                               'V2_ragged_T', 'V2_diphasic_T',\n",
    "                                                               'V3_avg_Q', 'V3_avg_R', 'V3_avg_S', 'V3_avg_R_prime', \n",
    "                                                               'V3_avg_S_prime','V3_intrinsic_deflect', 'V3_ragged_R', \n",
    "                                                               'V3_diphasic_R', 'V3_ragged_P', 'V3_diphasic_P', \n",
    "                                                               'V3_ragged_T', 'V3_diphasic_T',\n",
    "                                                               'V4_avg_Q', 'V4_avg_R', 'V4_avg_S', 'V4_avg_R_prime', \n",
    "                                                               'V4_avg_S_prime','V4_intrinsic_deflect', 'V4_ragged_R', \n",
    "                                                               'V4_diphasic_R', 'V4_ragged_P', 'V4_diphasic_P', \n",
    "                                                               'V4_ragged_T', 'V4_diphasic_T',\n",
    "                                                               'V5_avg_Q', 'V5_avg_R', 'V5_avg_S', 'V5_avg_R_prime', \n",
    "                                                               'V5_avg_S_prime','V5_intrinsic_deflect', 'V5_ragged_R', \n",
    "                                                               'V5_diphasic_R', 'V5_ragged_P', 'V5_diphasic_P', \n",
    "                                                               'V5_ragged_T', 'V5_diphasic_T',\n",
    "                                                               'V6_avg_Q', 'V6_avg_R', 'V6_avg_S', 'V6_avg_R_prime', \n",
    "                                                               'V6_avg_S_prime','V6_intrinsic_deflect', 'V6_ragged_R', \n",
    "                                                               'V6_diphasic_R', 'V6_ragged_P', 'V6_diphasic_P', \n",
    "                                                               'V6_ragged_T', 'V6_diphasic_T',\n",
    "                                                               'DI_JJ_amp', 'DI_Q_amp', 'DI_R_amp', 'DI_S_amp', 'DI_R_prime_amp',\n",
    "                                                               'DI_S_prime_amp', 'DI_P_amp', 'DI_T_amp', 'DI_QRSA', 'DI_QRSTA',\n",
    "                                                               'DII_JJ_amp', 'DII_Q_amp', 'DII_R_amp', 'DII_S_amp', 'DII_R_prime_amp',\n",
    "                                                               'DII_S_prime_amp', 'DII_P_amp', 'DII_T_amp', 'DII_QRSA', 'DII_QRSTA',\n",
    "                                                               'DIII_JJ_amp', 'DIII_Q_amp', 'DIII_R_amp', 'DIII_S_amp', 'DIII_R_prime_amp',\n",
    "                                                               'DIII_S_prime_amp', 'DIII_P_amp', 'DIII_T_amp', 'DIII_QRSA', 'DIII_QRSTA',\n",
    "                                                               'AVR_JJ_amp', 'AVR_Q_amp', 'AVR_R_amp', 'AVR_S_amp', 'AVR_R_prime_amp',\n",
    "                                                               'AVR_S_prime_amp', 'AVR_P_amp', 'AVR_T_amp', 'AVR_QRSA', 'AVR_QRSTA',\n",
    "                                                               'AVL_JJ_amp', 'AVL_Q_amp', 'AVL_R_amp', 'AVL_S_amp', 'AVL_R_prime_amp',\n",
    "                                                               'AVL_S_prime_amp', 'AVL_P_amp', 'AVL_T_amp', 'AVL_QRSA', 'AVL_QRSTA',\n",
    "                                                               'AVF_JJ_amp', 'AVF_Q_amp', 'AVF_R_amp', 'AVF_S_amp', 'AVF_R_prime_amp',\n",
    "                                                               'AVF_S_prime_amp', 'AVF_P_amp', 'AVF_T_amp', 'AVF_QRSA', 'AVF_QRSTA',\n",
    "                                                               'V1_JJ_amp', 'V1_Q_amp', 'V1_R_amp', 'V1_S_amp', 'V1_R_prime_amp',\n",
    "                                                               'V1_S_prime_amp', 'V1_P_amp', 'V1_T_amp', 'V1_QRSA', 'V1_QRSTA',\n",
    "                                                               'V2_JJ_amp', 'V2_Q_amp', 'V2_R_amp', 'V2_S_amp', 'V2_R_prime_amp',\n",
    "                                                               'V2_S_prime_amp', 'V2_P_amp', 'V2_T_amp', 'V2_QRSA', 'V2_QRSTA',\n",
    "                                                               'V3_JJ_amp', 'V3_Q_amp', 'V3_R_amp', 'V3_S_amp', 'V3_R_prime_amp',\n",
    "                                                               'V3_S_prime_amp', 'V3_P_amp', 'V3_T_amp', 'V3_QRSA', 'V3_QRSTA',\n",
    "                                                               'V4_JJ_amp', 'V4_Q_amp', 'V4_R_amp', 'V4_S_amp', 'V4_R_prime_amp',\n",
    "                                                               'V4_S_prime_amp', 'V4_P_amp', 'V4_T_amp', 'V4_QRSA', 'V4_QRSTA',\n",
    "                                                               'V5_JJ_amp', 'V5_Q_amp', 'V5_R_amp', 'V5_S_amp', 'V5_R_prime_amp',\n",
    "                                                               'V5_S_prime_amp', 'V5_P_amp', 'V5_T_amp', 'V5_QRSA', 'V5_QRSTA',\n",
    "                                                               'V6_JJ_amp', 'V6_Q_amp', 'V6_R_amp', 'V6_S_amp', 'V6_R_prime_amp',\n",
    "                                                               'V6_S_prime_amp', 'V6_P_amp', 'V6_T_amp', 'V6_QRSA', 'V6_QRSTA','Class_code'])"
   ]
  },
  {
   "cell_type": "code",
   "execution_count": null,
   "id": "b0c6999a",
   "metadata": {},
   "outputs": [],
   "source": [
    "# info() did not work as before - guessing it was due to number of columns in this dataframe.\n",
    "df.info(verbose=True)"
   ]
  },
  {
   "cell_type": "code",
   "execution_count": null,
   "id": "d2198bed",
   "metadata": {},
   "outputs": [],
   "source": [
    "df.info(memory_usage='deep')"
   ]
  },
  {
   "cell_type": "code",
   "execution_count": null,
   "id": "467a6a4c",
   "metadata": {},
   "outputs": [],
   "source": [
    "df['Age'].value_counts()"
   ]
  },
  {
   "cell_type": "code",
   "execution_count": null,
   "id": "b6bf540f",
   "metadata": {},
   "outputs": [],
   "source": [
    "df['Class_code'].value_counts()"
   ]
  },
  {
   "cell_type": "code",
   "execution_count": null,
   "id": "3fc568d4",
   "metadata": {},
   "outputs": [],
   "source": [
    "df = pd.read_csv(\"../homework_16/australian.dat\", sep=\" \", header=None, names=['A1','A2','A3', 'A4', 'A5', 'A6', 'A7', 'A8', 'A9', 'A10', 'A11', 'A12', 'A13', 'A14', 'A15'])"
   ]
  },
  {
   "cell_type": "code",
   "execution_count": null,
   "id": "ce80e736",
   "metadata": {},
   "outputs": [],
   "source": [
    "df['A15'].value_counts() # this will be the target column"
   ]
  }
 ],
 "metadata": {
  "kernelspec": {
   "display_name": "Python 3 (ipykernel)",
   "language": "python",
   "name": "python3"
  },
  "language_info": {
   "codemirror_mode": {
    "name": "ipython",
    "version": 3
   },
   "file_extension": ".py",
   "mimetype": "text/x-python",
   "name": "python",
   "nbconvert_exporter": "python",
   "pygments_lexer": "ipython3",
   "version": "3.9.7"
  }
 },
 "nbformat": 4,
 "nbformat_minor": 5
}
